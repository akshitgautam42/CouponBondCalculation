{
 "cells": [
  {
   "cell_type": "code",
   "execution_count": 7,
   "metadata": {},
   "outputs": [],
   "source": [
    "class CouponBond:\n",
    "    def __init__ (self,principal,rate,maturity,interest_rate):\n",
    "        self.principal=principal\n",
    "        self.rate = rate/100\n",
    "        self.maturity = maturity\n",
    "        self.interest_rate = interest_rate/100\n",
    "        \n",
    "        \n",
    "    def present_value(self,x,n):\n",
    "        return x / (1+self.interest_rate)**n\n",
    "    \n",
    "    def calculate_price(self):\n",
    "        price = 0\n",
    "        \n",
    "        #discount the coupon payments\n",
    "        for t in range(1,self.maturity+1):\n",
    "            price = price + self.present_value(self.principal*self.rate,t)\n",
    "            \n",
    "        #discount principle amount\n",
    "        price = price + self.present_value(self.principal,self.maturity)\n",
    "        \n",
    "        return price\n",
    "        "
   ]
  },
  {
   "cell_type": "code",
   "execution_count": 8,
   "metadata": {},
   "outputs": [],
   "source": [
    "bond = CouponBond(1000,10,3,4)"
   ]
  },
  {
   "cell_type": "code",
   "execution_count": 9,
   "metadata": {},
   "outputs": [
    {
     "name": "stdout",
     "output_type": "stream",
     "text": [
      "Bond Price: 1166.51\n"
     ]
    }
   ],
   "source": [
    "print(\"Bond Price: %.2f\"% bond.calculate_price())"
   ]
  },
  {
   "cell_type": "code",
   "execution_count": null,
   "metadata": {},
   "outputs": [],
   "source": []
  }
 ],
 "metadata": {
  "kernelspec": {
   "display_name": "Python 3",
   "language": "python",
   "name": "python3"
  },
  "language_info": {
   "codemirror_mode": {
    "name": "ipython",
    "version": 3
   },
   "file_extension": ".py",
   "mimetype": "text/x-python",
   "name": "python",
   "nbconvert_exporter": "python",
   "pygments_lexer": "ipython3",
   "version": "3.9.1"
  }
 },
 "nbformat": 4,
 "nbformat_minor": 4
}
